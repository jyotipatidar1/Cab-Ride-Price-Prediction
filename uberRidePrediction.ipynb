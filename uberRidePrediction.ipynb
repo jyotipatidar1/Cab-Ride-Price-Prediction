{
 "cells": [
  {
   "cell_type": "code",
   "execution_count": null,
   "metadata": {},
   "outputs": [],
   "source": [
    "import pandas as pd\n",
    "import numpy as np\n",
    "import matplotlib.pyplot as ply\n",
    "import seaborn as sns\n",
    "from sklearn.linear_model import LinearRegression\n",
    "import itertools\n",
    "import gc\n",
    "import os\n",
    "import sys\n",
    "%matplotlib inline"
   ]
  },
  {
   "cell_type": "code",
   "execution_count": 3,
   "metadata": {},
   "outputs": [],
   "source": [
    "cab_data = pd.read_csv('cab_rides.csv')\n",
    "weather_data = pd.read_csv('weather.csv')"
   ]
  },
  {
   "cell_type": "code",
   "execution_count": 4,
   "metadata": {},
   "outputs": [
    {
     "data": {
      "text/plain": [
       "Index(['distance', 'cab_type', 'time_stamp', 'destination', 'source', 'price',\n",
       "       'surge_multiplier', 'id', 'product_id', 'name'],\n",
       "      dtype='object')"
      ]
     },
     "execution_count": 4,
     "metadata": {},
     "output_type": "execute_result"
    }
   ],
   "source": [
    "cab_data.columns\n"
   ]
  },
  {
   "cell_type": "code",
   "execution_count": 5,
   "metadata": {},
   "outputs": [
    {
     "data": {
      "text/plain": [
       "Index(['temp', 'location', 'clouds', 'pressure', 'rain', 'time_stamp',\n",
       "       'humidity', 'wind'],\n",
       "      dtype='object')"
      ]
     },
     "execution_count": 5,
     "metadata": {},
     "output_type": "execute_result"
    }
   ],
   "source": [
    "weather_data.columns\n"
   ]
  },
  {
   "cell_type": "code",
   "execution_count": 10,
   "metadata": {},
   "outputs": [],
   "source": [
    "import datetime\n",
    "cab_data['datetime'] = pd.to_datetime(cab_data['time_stamp'])\n",
    "weather_data['datetime'] = pd.to_datetime(weather_data['time_stamp'])"
   ]
  },
  {
   "cell_type": "code",
   "execution_count": 11,
   "metadata": {},
   "outputs": [
    {
     "data": {
      "text/plain": [
       "(693071, 11)"
      ]
     },
     "execution_count": 11,
     "metadata": {},
     "output_type": "execute_result"
    }
   ],
   "source": [
    "cab_data.shape"
   ]
  },
  {
   "cell_type": "code",
   "execution_count": 12,
   "metadata": {},
   "outputs": [
    {
     "data": {
      "text/plain": [
       "(6276, 9)"
      ]
     },
     "execution_count": 12,
     "metadata": {},
     "output_type": "execute_result"
    }
   ],
   "source": [
    "weather_data.shape"
   ]
  },
  {
   "cell_type": "code",
   "execution_count": 14,
   "metadata": {},
   "outputs": [
    {
     "data": {
      "text/html": [
       "<div>\n",
       "<style scoped>\n",
       "    .dataframe tbody tr th:only-of-type {\n",
       "        vertical-align: middle;\n",
       "    }\n",
       "\n",
       "    .dataframe tbody tr th {\n",
       "        vertical-align: top;\n",
       "    }\n",
       "\n",
       "    .dataframe thead th {\n",
       "        text-align: right;\n",
       "    }\n",
       "</style>\n",
       "<table border=\"1\" class=\"dataframe\">\n",
       "  <thead>\n",
       "    <tr style=\"text-align: right;\">\n",
       "      <th></th>\n",
       "      <th>distance</th>\n",
       "      <th>time_stamp</th>\n",
       "      <th>price</th>\n",
       "      <th>surge_multiplier</th>\n",
       "    </tr>\n",
       "  </thead>\n",
       "  <tbody>\n",
       "    <tr>\n",
       "      <th>count</th>\n",
       "      <td>693071.000000</td>\n",
       "      <td>6.930710e+05</td>\n",
       "      <td>637976.000000</td>\n",
       "      <td>693071.000000</td>\n",
       "    </tr>\n",
       "    <tr>\n",
       "      <th>mean</th>\n",
       "      <td>2.189430</td>\n",
       "      <td>1.544046e+12</td>\n",
       "      <td>16.545125</td>\n",
       "      <td>1.013870</td>\n",
       "    </tr>\n",
       "    <tr>\n",
       "      <th>std</th>\n",
       "      <td>1.138937</td>\n",
       "      <td>6.892342e+08</td>\n",
       "      <td>9.324359</td>\n",
       "      <td>0.091641</td>\n",
       "    </tr>\n",
       "    <tr>\n",
       "      <th>min</th>\n",
       "      <td>0.020000</td>\n",
       "      <td>1.543200e+12</td>\n",
       "      <td>2.500000</td>\n",
       "      <td>1.000000</td>\n",
       "    </tr>\n",
       "    <tr>\n",
       "      <th>25%</th>\n",
       "      <td>1.280000</td>\n",
       "      <td>1.543440e+12</td>\n",
       "      <td>9.000000</td>\n",
       "      <td>1.000000</td>\n",
       "    </tr>\n",
       "    <tr>\n",
       "      <th>50%</th>\n",
       "      <td>2.160000</td>\n",
       "      <td>1.543740e+12</td>\n",
       "      <td>13.500000</td>\n",
       "      <td>1.000000</td>\n",
       "    </tr>\n",
       "    <tr>\n",
       "      <th>75%</th>\n",
       "      <td>2.920000</td>\n",
       "      <td>1.544830e+12</td>\n",
       "      <td>22.500000</td>\n",
       "      <td>1.000000</td>\n",
       "    </tr>\n",
       "    <tr>\n",
       "      <th>max</th>\n",
       "      <td>7.860000</td>\n",
       "      <td>1.545160e+12</td>\n",
       "      <td>97.500000</td>\n",
       "      <td>3.000000</td>\n",
       "    </tr>\n",
       "  </tbody>\n",
       "</table>\n",
       "</div>"
      ],
      "text/plain": [
       "            distance    time_stamp          price  surge_multiplier\n",
       "count  693071.000000  6.930710e+05  637976.000000     693071.000000\n",
       "mean        2.189430  1.544046e+12      16.545125          1.013870\n",
       "std         1.138937  6.892342e+08       9.324359          0.091641\n",
       "min         0.020000  1.543200e+12       2.500000          1.000000\n",
       "25%         1.280000  1.543440e+12       9.000000          1.000000\n",
       "50%         2.160000  1.543740e+12      13.500000          1.000000\n",
       "75%         2.920000  1.544830e+12      22.500000          1.000000\n",
       "max         7.860000  1.545160e+12      97.500000          3.000000"
      ]
     },
     "execution_count": 14,
     "metadata": {},
     "output_type": "execute_result"
    }
   ],
   "source": [
    "cab_data.describe()"
   ]
  },
  {
   "cell_type": "code",
   "execution_count": 15,
   "metadata": {},
   "outputs": [
    {
     "data": {
      "text/html": [
       "<div>\n",
       "<style scoped>\n",
       "    .dataframe tbody tr th:only-of-type {\n",
       "        vertical-align: middle;\n",
       "    }\n",
       "\n",
       "    .dataframe tbody tr th {\n",
       "        vertical-align: top;\n",
       "    }\n",
       "\n",
       "    .dataframe thead th {\n",
       "        text-align: right;\n",
       "    }\n",
       "</style>\n",
       "<table border=\"1\" class=\"dataframe\">\n",
       "  <thead>\n",
       "    <tr style=\"text-align: right;\">\n",
       "      <th></th>\n",
       "      <th>temp</th>\n",
       "      <th>clouds</th>\n",
       "      <th>pressure</th>\n",
       "      <th>rain</th>\n",
       "      <th>time_stamp</th>\n",
       "      <th>humidity</th>\n",
       "      <th>wind</th>\n",
       "    </tr>\n",
       "  </thead>\n",
       "  <tbody>\n",
       "    <tr>\n",
       "      <th>count</th>\n",
       "      <td>6276.000000</td>\n",
       "      <td>6276.000000</td>\n",
       "      <td>6276.000000</td>\n",
       "      <td>894.000000</td>\n",
       "      <td>6.276000e+03</td>\n",
       "      <td>6276.000000</td>\n",
       "      <td>6276.000000</td>\n",
       "    </tr>\n",
       "    <tr>\n",
       "      <th>mean</th>\n",
       "      <td>39.090475</td>\n",
       "      <td>0.677777</td>\n",
       "      <td>1008.445209</td>\n",
       "      <td>0.057652</td>\n",
       "      <td>1.543857e+09</td>\n",
       "      <td>0.763985</td>\n",
       "      <td>6.802812</td>\n",
       "    </tr>\n",
       "    <tr>\n",
       "      <th>std</th>\n",
       "      <td>6.022055</td>\n",
       "      <td>0.314284</td>\n",
       "      <td>12.870775</td>\n",
       "      <td>0.100758</td>\n",
       "      <td>6.659340e+05</td>\n",
       "      <td>0.127340</td>\n",
       "      <td>3.633466</td>\n",
       "    </tr>\n",
       "    <tr>\n",
       "      <th>min</th>\n",
       "      <td>19.620000</td>\n",
       "      <td>0.000000</td>\n",
       "      <td>988.250000</td>\n",
       "      <td>0.000200</td>\n",
       "      <td>1.543204e+09</td>\n",
       "      <td>0.450000</td>\n",
       "      <td>0.290000</td>\n",
       "    </tr>\n",
       "    <tr>\n",
       "      <th>25%</th>\n",
       "      <td>36.077500</td>\n",
       "      <td>0.440000</td>\n",
       "      <td>997.747500</td>\n",
       "      <td>0.004900</td>\n",
       "      <td>1.543387e+09</td>\n",
       "      <td>0.670000</td>\n",
       "      <td>3.517500</td>\n",
       "    </tr>\n",
       "    <tr>\n",
       "      <th>50%</th>\n",
       "      <td>40.130000</td>\n",
       "      <td>0.780000</td>\n",
       "      <td>1007.660000</td>\n",
       "      <td>0.014850</td>\n",
       "      <td>1.543514e+09</td>\n",
       "      <td>0.760000</td>\n",
       "      <td>6.570000</td>\n",
       "    </tr>\n",
       "    <tr>\n",
       "      <th>75%</th>\n",
       "      <td>42.832500</td>\n",
       "      <td>0.970000</td>\n",
       "      <td>1018.480000</td>\n",
       "      <td>0.060925</td>\n",
       "      <td>1.544691e+09</td>\n",
       "      <td>0.890000</td>\n",
       "      <td>9.920000</td>\n",
       "    </tr>\n",
       "    <tr>\n",
       "      <th>max</th>\n",
       "      <td>55.410000</td>\n",
       "      <td>1.000000</td>\n",
       "      <td>1035.120000</td>\n",
       "      <td>0.780700</td>\n",
       "      <td>1.545159e+09</td>\n",
       "      <td>0.990000</td>\n",
       "      <td>18.180000</td>\n",
       "    </tr>\n",
       "  </tbody>\n",
       "</table>\n",
       "</div>"
      ],
      "text/plain": [
       "              temp       clouds     pressure        rain    time_stamp  \\\n",
       "count  6276.000000  6276.000000  6276.000000  894.000000  6.276000e+03   \n",
       "mean     39.090475     0.677777  1008.445209    0.057652  1.543857e+09   \n",
       "std       6.022055     0.314284    12.870775    0.100758  6.659340e+05   \n",
       "min      19.620000     0.000000   988.250000    0.000200  1.543204e+09   \n",
       "25%      36.077500     0.440000   997.747500    0.004900  1.543387e+09   \n",
       "50%      40.130000     0.780000  1007.660000    0.014850  1.543514e+09   \n",
       "75%      42.832500     0.970000  1018.480000    0.060925  1.544691e+09   \n",
       "max      55.410000     1.000000  1035.120000    0.780700  1.545159e+09   \n",
       "\n",
       "          humidity         wind  \n",
       "count  6276.000000  6276.000000  \n",
       "mean      0.763985     6.802812  \n",
       "std       0.127340     3.633466  \n",
       "min       0.450000     0.290000  \n",
       "25%       0.670000     3.517500  \n",
       "50%       0.760000     6.570000  \n",
       "75%       0.890000     9.920000  \n",
       "max       0.990000    18.180000  "
      ]
     },
     "execution_count": 15,
     "metadata": {},
     "output_type": "execute_result"
    }
   ],
   "source": [
    "weather_data.describe()"
   ]
  },
  {
   "cell_type": "code",
   "execution_count": 19,
   "metadata": {},
   "outputs": [
    {
     "data": {
      "text/html": [
       "<div>\n",
       "<style scoped>\n",
       "    .dataframe tbody tr th:only-of-type {\n",
       "        vertical-align: middle;\n",
       "    }\n",
       "\n",
       "    .dataframe tbody tr th {\n",
       "        vertical-align: top;\n",
       "    }\n",
       "\n",
       "    .dataframe thead th {\n",
       "        text-align: right;\n",
       "    }\n",
       "</style>\n",
       "<table border=\"1\" class=\"dataframe\">\n",
       "  <thead>\n",
       "    <tr style=\"text-align: right;\">\n",
       "      <th></th>\n",
       "      <th>distance</th>\n",
       "      <th>cab_type</th>\n",
       "      <th>time_stamp</th>\n",
       "      <th>destination</th>\n",
       "      <th>source</th>\n",
       "      <th>price</th>\n",
       "      <th>surge_multiplier</th>\n",
       "      <th>id</th>\n",
       "      <th>product_id</th>\n",
       "      <th>name</th>\n",
       "      <th>datetime</th>\n",
       "      <th>temp</th>\n",
       "      <th>location</th>\n",
       "      <th>clouds</th>\n",
       "      <th>pressure</th>\n",
       "      <th>rain</th>\n",
       "      <th>humidity</th>\n",
       "      <th>wind</th>\n",
       "    </tr>\n",
       "  </thead>\n",
       "  <tbody>\n",
       "    <tr>\n",
       "      <th>6271</th>\n",
       "      <td>NaN</td>\n",
       "      <td>NaN</td>\n",
       "      <td>1.543820e+09</td>\n",
       "      <td>NaN</td>\n",
       "      <td>NaN</td>\n",
       "      <td>NaN</td>\n",
       "      <td>NaN</td>\n",
       "      <td>NaN</td>\n",
       "      <td>NaN</td>\n",
       "      <td>NaN</td>\n",
       "      <td>1970-01-01 00:00:01.543819974</td>\n",
       "      <td>44.72</td>\n",
       "      <td>North Station</td>\n",
       "      <td>0.89</td>\n",
       "      <td>1000.69</td>\n",
       "      <td>NaN</td>\n",
       "      <td>0.96</td>\n",
       "      <td>1.52</td>\n",
       "    </tr>\n",
       "    <tr>\n",
       "      <th>6272</th>\n",
       "      <td>NaN</td>\n",
       "      <td>NaN</td>\n",
       "      <td>1.543820e+09</td>\n",
       "      <td>NaN</td>\n",
       "      <td>NaN</td>\n",
       "      <td>NaN</td>\n",
       "      <td>NaN</td>\n",
       "      <td>NaN</td>\n",
       "      <td>NaN</td>\n",
       "      <td>NaN</td>\n",
       "      <td>1970-01-01 00:00:01.543819974</td>\n",
       "      <td>44.85</td>\n",
       "      <td>Northeastern University</td>\n",
       "      <td>0.88</td>\n",
       "      <td>1000.71</td>\n",
       "      <td>NaN</td>\n",
       "      <td>0.96</td>\n",
       "      <td>1.54</td>\n",
       "    </tr>\n",
       "    <tr>\n",
       "      <th>6273</th>\n",
       "      <td>NaN</td>\n",
       "      <td>NaN</td>\n",
       "      <td>1.543820e+09</td>\n",
       "      <td>NaN</td>\n",
       "      <td>NaN</td>\n",
       "      <td>NaN</td>\n",
       "      <td>NaN</td>\n",
       "      <td>NaN</td>\n",
       "      <td>NaN</td>\n",
       "      <td>NaN</td>\n",
       "      <td>1970-01-01 00:00:01.543819974</td>\n",
       "      <td>44.82</td>\n",
       "      <td>South Station</td>\n",
       "      <td>0.89</td>\n",
       "      <td>1000.70</td>\n",
       "      <td>NaN</td>\n",
       "      <td>0.96</td>\n",
       "      <td>1.54</td>\n",
       "    </tr>\n",
       "    <tr>\n",
       "      <th>6274</th>\n",
       "      <td>NaN</td>\n",
       "      <td>NaN</td>\n",
       "      <td>1.543820e+09</td>\n",
       "      <td>NaN</td>\n",
       "      <td>NaN</td>\n",
       "      <td>NaN</td>\n",
       "      <td>NaN</td>\n",
       "      <td>NaN</td>\n",
       "      <td>NaN</td>\n",
       "      <td>NaN</td>\n",
       "      <td>1970-01-01 00:00:01.543819974</td>\n",
       "      <td>44.78</td>\n",
       "      <td>Theatre District</td>\n",
       "      <td>0.89</td>\n",
       "      <td>1000.70</td>\n",
       "      <td>NaN</td>\n",
       "      <td>0.96</td>\n",
       "      <td>1.54</td>\n",
       "    </tr>\n",
       "    <tr>\n",
       "      <th>6275</th>\n",
       "      <td>NaN</td>\n",
       "      <td>NaN</td>\n",
       "      <td>1.543820e+09</td>\n",
       "      <td>NaN</td>\n",
       "      <td>NaN</td>\n",
       "      <td>NaN</td>\n",
       "      <td>NaN</td>\n",
       "      <td>NaN</td>\n",
       "      <td>NaN</td>\n",
       "      <td>NaN</td>\n",
       "      <td>1970-01-01 00:00:01.543819974</td>\n",
       "      <td>44.69</td>\n",
       "      <td>West End</td>\n",
       "      <td>0.89</td>\n",
       "      <td>1000.70</td>\n",
       "      <td>NaN</td>\n",
       "      <td>0.96</td>\n",
       "      <td>1.52</td>\n",
       "    </tr>\n",
       "  </tbody>\n",
       "</table>\n",
       "</div>"
      ],
      "text/plain": [
       "      distance cab_type    time_stamp destination source  price  \\\n",
       "6271       NaN      NaN  1.543820e+09         NaN    NaN    NaN   \n",
       "6272       NaN      NaN  1.543820e+09         NaN    NaN    NaN   \n",
       "6273       NaN      NaN  1.543820e+09         NaN    NaN    NaN   \n",
       "6274       NaN      NaN  1.543820e+09         NaN    NaN    NaN   \n",
       "6275       NaN      NaN  1.543820e+09         NaN    NaN    NaN   \n",
       "\n",
       "      surge_multiplier   id product_id name                      datetime  \\\n",
       "6271               NaN  NaN        NaN  NaN 1970-01-01 00:00:01.543819974   \n",
       "6272               NaN  NaN        NaN  NaN 1970-01-01 00:00:01.543819974   \n",
       "6273               NaN  NaN        NaN  NaN 1970-01-01 00:00:01.543819974   \n",
       "6274               NaN  NaN        NaN  NaN 1970-01-01 00:00:01.543819974   \n",
       "6275               NaN  NaN        NaN  NaN 1970-01-01 00:00:01.543819974   \n",
       "\n",
       "       temp                 location  clouds  pressure  rain  humidity  wind  \n",
       "6271  44.72            North Station    0.89   1000.69   NaN      0.96  1.52  \n",
       "6272  44.85  Northeastern University    0.88   1000.71   NaN      0.96  1.54  \n",
       "6273  44.82            South Station    0.89   1000.70   NaN      0.96  1.54  \n",
       "6274  44.78         Theatre District    0.89   1000.70   NaN      0.96  1.54  \n",
       "6275  44.69                 West End    0.89   1000.70   NaN      0.96  1.52  "
      ]
     },
     "execution_count": 19,
     "metadata": {},
     "output_type": "execute_result"
    }
   ],
   "source": [
    "a = pd.concat([cab_data,weather_data])\n",
    "a.tail()"
   ]
  },
  {
   "cell_type": "code",
   "execution_count": 22,
   "metadata": {},
   "outputs": [
    {
     "data": {
      "text/html": [
       "<div>\n",
       "<style scoped>\n",
       "    .dataframe tbody tr th:only-of-type {\n",
       "        vertical-align: middle;\n",
       "    }\n",
       "\n",
       "    .dataframe tbody tr th {\n",
       "        vertical-align: top;\n",
       "    }\n",
       "\n",
       "    .dataframe thead th {\n",
       "        text-align: right;\n",
       "    }\n",
       "</style>\n",
       "<table border=\"1\" class=\"dataframe\">\n",
       "  <thead>\n",
       "    <tr style=\"text-align: right;\">\n",
       "      <th></th>\n",
       "      <th>distance</th>\n",
       "      <th>cab_type</th>\n",
       "      <th>time_stamp</th>\n",
       "      <th>destination</th>\n",
       "      <th>source</th>\n",
       "      <th>price</th>\n",
       "      <th>surge_multiplier</th>\n",
       "      <th>id</th>\n",
       "      <th>product_id</th>\n",
       "      <th>name</th>\n",
       "      <th>datetime</th>\n",
       "      <th>temp</th>\n",
       "      <th>location</th>\n",
       "      <th>clouds</th>\n",
       "      <th>pressure</th>\n",
       "      <th>rain</th>\n",
       "      <th>humidity</th>\n",
       "      <th>wind</th>\n",
       "      <th>day</th>\n",
       "      <th>hour</th>\n",
       "    </tr>\n",
       "  </thead>\n",
       "  <tbody>\n",
       "    <tr>\n",
       "      <th>6271</th>\n",
       "      <td>NaN</td>\n",
       "      <td>NaN</td>\n",
       "      <td>1.543820e+09</td>\n",
       "      <td>NaN</td>\n",
       "      <td>NaN</td>\n",
       "      <td>NaN</td>\n",
       "      <td>NaN</td>\n",
       "      <td>NaN</td>\n",
       "      <td>NaN</td>\n",
       "      <td>NaN</td>\n",
       "      <td>1970-01-01 00:00:01.543819974</td>\n",
       "      <td>44.72</td>\n",
       "      <td>North Station</td>\n",
       "      <td>0.89</td>\n",
       "      <td>1000.69</td>\n",
       "      <td>NaN</td>\n",
       "      <td>0.96</td>\n",
       "      <td>1.52</td>\n",
       "      <td>1</td>\n",
       "      <td>0</td>\n",
       "    </tr>\n",
       "    <tr>\n",
       "      <th>6272</th>\n",
       "      <td>NaN</td>\n",
       "      <td>NaN</td>\n",
       "      <td>1.543820e+09</td>\n",
       "      <td>NaN</td>\n",
       "      <td>NaN</td>\n",
       "      <td>NaN</td>\n",
       "      <td>NaN</td>\n",
       "      <td>NaN</td>\n",
       "      <td>NaN</td>\n",
       "      <td>NaN</td>\n",
       "      <td>1970-01-01 00:00:01.543819974</td>\n",
       "      <td>44.85</td>\n",
       "      <td>Northeastern University</td>\n",
       "      <td>0.88</td>\n",
       "      <td>1000.71</td>\n",
       "      <td>NaN</td>\n",
       "      <td>0.96</td>\n",
       "      <td>1.54</td>\n",
       "      <td>1</td>\n",
       "      <td>0</td>\n",
       "    </tr>\n",
       "    <tr>\n",
       "      <th>6273</th>\n",
       "      <td>NaN</td>\n",
       "      <td>NaN</td>\n",
       "      <td>1.543820e+09</td>\n",
       "      <td>NaN</td>\n",
       "      <td>NaN</td>\n",
       "      <td>NaN</td>\n",
       "      <td>NaN</td>\n",
       "      <td>NaN</td>\n",
       "      <td>NaN</td>\n",
       "      <td>NaN</td>\n",
       "      <td>1970-01-01 00:00:01.543819974</td>\n",
       "      <td>44.82</td>\n",
       "      <td>South Station</td>\n",
       "      <td>0.89</td>\n",
       "      <td>1000.70</td>\n",
       "      <td>NaN</td>\n",
       "      <td>0.96</td>\n",
       "      <td>1.54</td>\n",
       "      <td>1</td>\n",
       "      <td>0</td>\n",
       "    </tr>\n",
       "    <tr>\n",
       "      <th>6274</th>\n",
       "      <td>NaN</td>\n",
       "      <td>NaN</td>\n",
       "      <td>1.543820e+09</td>\n",
       "      <td>NaN</td>\n",
       "      <td>NaN</td>\n",
       "      <td>NaN</td>\n",
       "      <td>NaN</td>\n",
       "      <td>NaN</td>\n",
       "      <td>NaN</td>\n",
       "      <td>NaN</td>\n",
       "      <td>1970-01-01 00:00:01.543819974</td>\n",
       "      <td>44.78</td>\n",
       "      <td>Theatre District</td>\n",
       "      <td>0.89</td>\n",
       "      <td>1000.70</td>\n",
       "      <td>NaN</td>\n",
       "      <td>0.96</td>\n",
       "      <td>1.54</td>\n",
       "      <td>1</td>\n",
       "      <td>0</td>\n",
       "    </tr>\n",
       "    <tr>\n",
       "      <th>6275</th>\n",
       "      <td>NaN</td>\n",
       "      <td>NaN</td>\n",
       "      <td>1.543820e+09</td>\n",
       "      <td>NaN</td>\n",
       "      <td>NaN</td>\n",
       "      <td>NaN</td>\n",
       "      <td>NaN</td>\n",
       "      <td>NaN</td>\n",
       "      <td>NaN</td>\n",
       "      <td>NaN</td>\n",
       "      <td>1970-01-01 00:00:01.543819974</td>\n",
       "      <td>44.69</td>\n",
       "      <td>West End</td>\n",
       "      <td>0.89</td>\n",
       "      <td>1000.70</td>\n",
       "      <td>NaN</td>\n",
       "      <td>0.96</td>\n",
       "      <td>1.52</td>\n",
       "      <td>1</td>\n",
       "      <td>0</td>\n",
       "    </tr>\n",
       "  </tbody>\n",
       "</table>\n",
       "</div>"
      ],
      "text/plain": [
       "      distance cab_type    time_stamp destination source  price  \\\n",
       "6271       NaN      NaN  1.543820e+09         NaN    NaN    NaN   \n",
       "6272       NaN      NaN  1.543820e+09         NaN    NaN    NaN   \n",
       "6273       NaN      NaN  1.543820e+09         NaN    NaN    NaN   \n",
       "6274       NaN      NaN  1.543820e+09         NaN    NaN    NaN   \n",
       "6275       NaN      NaN  1.543820e+09         NaN    NaN    NaN   \n",
       "\n",
       "      surge_multiplier   id product_id name                      datetime  \\\n",
       "6271               NaN  NaN        NaN  NaN 1970-01-01 00:00:01.543819974   \n",
       "6272               NaN  NaN        NaN  NaN 1970-01-01 00:00:01.543819974   \n",
       "6273               NaN  NaN        NaN  NaN 1970-01-01 00:00:01.543819974   \n",
       "6274               NaN  NaN        NaN  NaN 1970-01-01 00:00:01.543819974   \n",
       "6275               NaN  NaN        NaN  NaN 1970-01-01 00:00:01.543819974   \n",
       "\n",
       "       temp                 location  clouds  pressure  rain  humidity  wind  \\\n",
       "6271  44.72            North Station    0.89   1000.69   NaN      0.96  1.52   \n",
       "6272  44.85  Northeastern University    0.88   1000.71   NaN      0.96  1.54   \n",
       "6273  44.82            South Station    0.89   1000.70   NaN      0.96  1.54   \n",
       "6274  44.78         Theatre District    0.89   1000.70   NaN      0.96  1.54   \n",
       "6275  44.69                 West End    0.89   1000.70   NaN      0.96  1.52   \n",
       "\n",
       "      day  hour  \n",
       "6271    1     0  \n",
       "6272    1     0  \n",
       "6273    1     0  \n",
       "6274    1     0  \n",
       "6275    1     0  "
      ]
     },
     "execution_count": 22,
     "metadata": {},
     "output_type": "execute_result"
    }
   ],
   "source": [
    "a['day'] = a.datetime.dt.day\n",
    "a['hour'] = a.datetime.dt.hour\n",
    "a.tail()"
   ]
  },
  {
   "cell_type": "code",
   "execution_count": 23,
   "metadata": {},
   "outputs": [],
   "source": [
    "a.fillna(0,inplace=True)"
   ]
  },
  {
   "cell_type": "code",
   "execution_count": 25,
   "metadata": {},
   "outputs": [
    {
     "data": {
      "text/html": [
       "<div>\n",
       "<style scoped>\n",
       "    .dataframe tbody tr th:only-of-type {\n",
       "        vertical-align: middle;\n",
       "    }\n",
       "\n",
       "    .dataframe tbody tr th {\n",
       "        vertical-align: top;\n",
       "    }\n",
       "\n",
       "    .dataframe thead th {\n",
       "        text-align: right;\n",
       "    }\n",
       "</style>\n",
       "<table border=\"1\" class=\"dataframe\">\n",
       "  <thead>\n",
       "    <tr style=\"text-align: right;\">\n",
       "      <th></th>\n",
       "      <th>distance</th>\n",
       "      <th>cab_type</th>\n",
       "      <th>time_stamp</th>\n",
       "      <th>destination</th>\n",
       "      <th>source</th>\n",
       "      <th>price</th>\n",
       "      <th>surge_multiplier</th>\n",
       "      <th>id</th>\n",
       "      <th>product_id</th>\n",
       "      <th>name</th>\n",
       "      <th>datetime</th>\n",
       "      <th>temp</th>\n",
       "      <th>location</th>\n",
       "      <th>clouds</th>\n",
       "      <th>pressure</th>\n",
       "      <th>rain</th>\n",
       "      <th>humidity</th>\n",
       "      <th>wind</th>\n",
       "      <th>day</th>\n",
       "      <th>hour</th>\n",
       "    </tr>\n",
       "  </thead>\n",
       "  <tbody>\n",
       "    <tr>\n",
       "      <th>6271</th>\n",
       "      <td>0.0</td>\n",
       "      <td>0</td>\n",
       "      <td>1.543820e+09</td>\n",
       "      <td>0</td>\n",
       "      <td>0</td>\n",
       "      <td>0.0</td>\n",
       "      <td>0.0</td>\n",
       "      <td>0</td>\n",
       "      <td>0</td>\n",
       "      <td>0</td>\n",
       "      <td>1970-01-01 00:00:01.543819974</td>\n",
       "      <td>44.72</td>\n",
       "      <td>North Station</td>\n",
       "      <td>0.89</td>\n",
       "      <td>1000.69</td>\n",
       "      <td>0.0</td>\n",
       "      <td>0.96</td>\n",
       "      <td>1.52</td>\n",
       "      <td>1</td>\n",
       "      <td>0</td>\n",
       "    </tr>\n",
       "    <tr>\n",
       "      <th>6272</th>\n",
       "      <td>0.0</td>\n",
       "      <td>0</td>\n",
       "      <td>1.543820e+09</td>\n",
       "      <td>0</td>\n",
       "      <td>0</td>\n",
       "      <td>0.0</td>\n",
       "      <td>0.0</td>\n",
       "      <td>0</td>\n",
       "      <td>0</td>\n",
       "      <td>0</td>\n",
       "      <td>1970-01-01 00:00:01.543819974</td>\n",
       "      <td>44.85</td>\n",
       "      <td>Northeastern University</td>\n",
       "      <td>0.88</td>\n",
       "      <td>1000.71</td>\n",
       "      <td>0.0</td>\n",
       "      <td>0.96</td>\n",
       "      <td>1.54</td>\n",
       "      <td>1</td>\n",
       "      <td>0</td>\n",
       "    </tr>\n",
       "    <tr>\n",
       "      <th>6273</th>\n",
       "      <td>0.0</td>\n",
       "      <td>0</td>\n",
       "      <td>1.543820e+09</td>\n",
       "      <td>0</td>\n",
       "      <td>0</td>\n",
       "      <td>0.0</td>\n",
       "      <td>0.0</td>\n",
       "      <td>0</td>\n",
       "      <td>0</td>\n",
       "      <td>0</td>\n",
       "      <td>1970-01-01 00:00:01.543819974</td>\n",
       "      <td>44.82</td>\n",
       "      <td>South Station</td>\n",
       "      <td>0.89</td>\n",
       "      <td>1000.70</td>\n",
       "      <td>0.0</td>\n",
       "      <td>0.96</td>\n",
       "      <td>1.54</td>\n",
       "      <td>1</td>\n",
       "      <td>0</td>\n",
       "    </tr>\n",
       "    <tr>\n",
       "      <th>6274</th>\n",
       "      <td>0.0</td>\n",
       "      <td>0</td>\n",
       "      <td>1.543820e+09</td>\n",
       "      <td>0</td>\n",
       "      <td>0</td>\n",
       "      <td>0.0</td>\n",
       "      <td>0.0</td>\n",
       "      <td>0</td>\n",
       "      <td>0</td>\n",
       "      <td>0</td>\n",
       "      <td>1970-01-01 00:00:01.543819974</td>\n",
       "      <td>44.78</td>\n",
       "      <td>Theatre District</td>\n",
       "      <td>0.89</td>\n",
       "      <td>1000.70</td>\n",
       "      <td>0.0</td>\n",
       "      <td>0.96</td>\n",
       "      <td>1.54</td>\n",
       "      <td>1</td>\n",
       "      <td>0</td>\n",
       "    </tr>\n",
       "    <tr>\n",
       "      <th>6275</th>\n",
       "      <td>0.0</td>\n",
       "      <td>0</td>\n",
       "      <td>1.543820e+09</td>\n",
       "      <td>0</td>\n",
       "      <td>0</td>\n",
       "      <td>0.0</td>\n",
       "      <td>0.0</td>\n",
       "      <td>0</td>\n",
       "      <td>0</td>\n",
       "      <td>0</td>\n",
       "      <td>1970-01-01 00:00:01.543819974</td>\n",
       "      <td>44.69</td>\n",
       "      <td>West End</td>\n",
       "      <td>0.89</td>\n",
       "      <td>1000.70</td>\n",
       "      <td>0.0</td>\n",
       "      <td>0.96</td>\n",
       "      <td>1.52</td>\n",
       "      <td>1</td>\n",
       "      <td>0</td>\n",
       "    </tr>\n",
       "  </tbody>\n",
       "</table>\n",
       "</div>"
      ],
      "text/plain": [
       "      distance cab_type    time_stamp destination source  price  \\\n",
       "6271       0.0        0  1.543820e+09           0      0    0.0   \n",
       "6272       0.0        0  1.543820e+09           0      0    0.0   \n",
       "6273       0.0        0  1.543820e+09           0      0    0.0   \n",
       "6274       0.0        0  1.543820e+09           0      0    0.0   \n",
       "6275       0.0        0  1.543820e+09           0      0    0.0   \n",
       "\n",
       "      surge_multiplier id product_id name                      datetime  \\\n",
       "6271               0.0  0          0    0 1970-01-01 00:00:01.543819974   \n",
       "6272               0.0  0          0    0 1970-01-01 00:00:01.543819974   \n",
       "6273               0.0  0          0    0 1970-01-01 00:00:01.543819974   \n",
       "6274               0.0  0          0    0 1970-01-01 00:00:01.543819974   \n",
       "6275               0.0  0          0    0 1970-01-01 00:00:01.543819974   \n",
       "\n",
       "       temp                 location  clouds  pressure  rain  humidity  wind  \\\n",
       "6271  44.72            North Station    0.89   1000.69   0.0      0.96  1.52   \n",
       "6272  44.85  Northeastern University    0.88   1000.71   0.0      0.96  1.54   \n",
       "6273  44.82            South Station    0.89   1000.70   0.0      0.96  1.54   \n",
       "6274  44.78         Theatre District    0.89   1000.70   0.0      0.96  1.54   \n",
       "6275  44.69                 West End    0.89   1000.70   0.0      0.96  1.52   \n",
       "\n",
       "      day  hour  \n",
       "6271    1     0  \n",
       "6272    1     0  \n",
       "6273    1     0  \n",
       "6274    1     0  \n",
       "6275    1     0  "
      ]
     },
     "execution_count": 25,
     "metadata": {},
     "output_type": "execute_result"
    }
   ],
   "source": [
    "a.tail()"
   ]
  },
  {
   "cell_type": "code",
   "execution_count": 26,
   "metadata": {},
   "outputs": [
    {
     "data": {
      "text/plain": [
       "Index(['distance', 'cab_type', 'time_stamp', 'destination', 'source', 'price',\n",
       "       'surge_multiplier', 'id', 'product_id', 'name', 'datetime', 'temp',\n",
       "       'location', 'clouds', 'pressure', 'rain', 'humidity', 'wind', 'day',\n",
       "       'hour'],\n",
       "      dtype='object')"
      ]
     },
     "execution_count": 26,
     "metadata": {},
     "output_type": "execute_result"
    }
   ],
   "source": [
    "a.columns"
   ]
  },
  {
   "cell_type": "code",
   "execution_count": 31,
   "metadata": {},
   "outputs": [
    {
     "data": {
      "text/html": [
       "<div>\n",
       "<style scoped>\n",
       "    .dataframe tbody tr th:only-of-type {\n",
       "        vertical-align: middle;\n",
       "    }\n",
       "\n",
       "    .dataframe tbody tr th {\n",
       "        vertical-align: top;\n",
       "    }\n",
       "\n",
       "    .dataframe thead th {\n",
       "        text-align: right;\n",
       "    }\n",
       "</style>\n",
       "<table border=\"1\" class=\"dataframe\">\n",
       "  <thead>\n",
       "    <tr style=\"text-align: right;\">\n",
       "      <th></th>\n",
       "      <th>distance</th>\n",
       "      <th>time_stamp</th>\n",
       "      <th>destination</th>\n",
       "      <th>source</th>\n",
       "      <th>price</th>\n",
       "      <th>surge_multiplier</th>\n",
       "      <th>id</th>\n",
       "      <th>product_id</th>\n",
       "      <th>name</th>\n",
       "      <th>datetime</th>\n",
       "      <th>temp</th>\n",
       "      <th>location</th>\n",
       "      <th>clouds</th>\n",
       "      <th>pressure</th>\n",
       "      <th>rain</th>\n",
       "      <th>humidity</th>\n",
       "      <th>wind</th>\n",
       "      <th>day</th>\n",
       "      <th>hour</th>\n",
       "    </tr>\n",
       "    <tr>\n",
       "      <th>cab_type</th>\n",
       "      <th></th>\n",
       "      <th></th>\n",
       "      <th></th>\n",
       "      <th></th>\n",
       "      <th></th>\n",
       "      <th></th>\n",
       "      <th></th>\n",
       "      <th></th>\n",
       "      <th></th>\n",
       "      <th></th>\n",
       "      <th></th>\n",
       "      <th></th>\n",
       "      <th></th>\n",
       "      <th></th>\n",
       "      <th></th>\n",
       "      <th></th>\n",
       "      <th></th>\n",
       "      <th></th>\n",
       "      <th></th>\n",
       "    </tr>\n",
       "  </thead>\n",
       "  <tbody>\n",
       "    <tr>\n",
       "      <th>0</th>\n",
       "      <td>6276</td>\n",
       "      <td>6276</td>\n",
       "      <td>6276</td>\n",
       "      <td>6276</td>\n",
       "      <td>6276</td>\n",
       "      <td>6276</td>\n",
       "      <td>6276</td>\n",
       "      <td>6276</td>\n",
       "      <td>6276</td>\n",
       "      <td>6276</td>\n",
       "      <td>6276</td>\n",
       "      <td>6276</td>\n",
       "      <td>6276</td>\n",
       "      <td>6276</td>\n",
       "      <td>6276</td>\n",
       "      <td>6276</td>\n",
       "      <td>6276</td>\n",
       "      <td>6276</td>\n",
       "      <td>6276</td>\n",
       "    </tr>\n",
       "    <tr>\n",
       "      <th>Lyft</th>\n",
       "      <td>307408</td>\n",
       "      <td>307408</td>\n",
       "      <td>307408</td>\n",
       "      <td>307408</td>\n",
       "      <td>307408</td>\n",
       "      <td>307408</td>\n",
       "      <td>307408</td>\n",
       "      <td>307408</td>\n",
       "      <td>307408</td>\n",
       "      <td>307408</td>\n",
       "      <td>307408</td>\n",
       "      <td>307408</td>\n",
       "      <td>307408</td>\n",
       "      <td>307408</td>\n",
       "      <td>307408</td>\n",
       "      <td>307408</td>\n",
       "      <td>307408</td>\n",
       "      <td>307408</td>\n",
       "      <td>307408</td>\n",
       "    </tr>\n",
       "    <tr>\n",
       "      <th>Uber</th>\n",
       "      <td>385663</td>\n",
       "      <td>385663</td>\n",
       "      <td>385663</td>\n",
       "      <td>385663</td>\n",
       "      <td>385663</td>\n",
       "      <td>385663</td>\n",
       "      <td>385663</td>\n",
       "      <td>385663</td>\n",
       "      <td>385663</td>\n",
       "      <td>385663</td>\n",
       "      <td>385663</td>\n",
       "      <td>385663</td>\n",
       "      <td>385663</td>\n",
       "      <td>385663</td>\n",
       "      <td>385663</td>\n",
       "      <td>385663</td>\n",
       "      <td>385663</td>\n",
       "      <td>385663</td>\n",
       "      <td>385663</td>\n",
       "    </tr>\n",
       "  </tbody>\n",
       "</table>\n",
       "</div>"
      ],
      "text/plain": [
       "          distance  time_stamp  destination  source   price  surge_multiplier  \\\n",
       "cab_type                                                                        \n",
       "0             6276        6276         6276    6276    6276              6276   \n",
       "Lyft        307408      307408       307408  307408  307408            307408   \n",
       "Uber        385663      385663       385663  385663  385663            385663   \n",
       "\n",
       "              id  product_id    name  datetime    temp  location  clouds  \\\n",
       "cab_type                                                                   \n",
       "0           6276        6276    6276      6276    6276      6276    6276   \n",
       "Lyft      307408      307408  307408    307408  307408    307408  307408   \n",
       "Uber      385663      385663  385663    385663  385663    385663  385663   \n",
       "\n",
       "          pressure    rain  humidity    wind     day    hour  \n",
       "cab_type                                                      \n",
       "0             6276    6276      6276    6276    6276    6276  \n",
       "Lyft        307408  307408    307408  307408  307408  307408  \n",
       "Uber        385663  385663    385663  385663  385663  385663  "
      ]
     },
     "execution_count": 31,
     "metadata": {},
     "output_type": "execute_result"
    }
   ],
   "source": [
    "a.groupby('cab_type').count()"
   ]
  },
  {
   "cell_type": "code",
   "execution_count": 32,
   "metadata": {},
   "outputs": [
    {
     "data": {
      "text/plain": [
       "<matplotlib.axes._subplots.AxesSubplot at 0x15658910>"
      ]
     },
     "execution_count": 32,
     "metadata": {},
     "output_type": "execute_result"
    },
    {
     "data": {
      "image/png": "[encoded data removed]",
      "text/plain": [
       "<Figure size 432x288 with 1 Axes>"
      ]
     },
     "metadata": {
      "needs_background": "light"
     },
     "output_type": "display_data"
    }
   ],
   "source": [
    "a.groupby('cab_type').count().plot.bar()"
   ]
  },
  {
   "cell_type": "code",
   "execution_count": 37,
   "metadata": {},
   "outputs": [
    {
     "data": {
      "text/plain": [
       "<matplotlib.axes._subplots.AxesSubplot at 0x4833670>"
      ]
     },
     "execution_count": 37,
     "metadata": {},
     "output_type": "execute_result"
    },
    {
     "data": {
      "image/png": "[encoded data removed]",
      "text/plain": [
       "<Figure size 7200x3600 with 1 Axes>"
      ]
     },
     "metadata": {
      "needs_background": "light"
     },
     "output_type": "display_data"
    }
   ],
   "source": [
    "a['price'].value_counts().plot(kind='bar',figsize=(100,50),color='blue')"
   ]
  },
  {
   "cell_type": "code",
   "execution_count": 40,
   "metadata": {},
   "outputs": [
    {
     "data": {
      "text/plain": [
       "<matplotlib.axes._subplots.AxesSubplot at 0xf80ead0>"
      ]
     },
     "execution_count": 40,
     "metadata": {},
     "output_type": "execute_result"
    },
    {
     "data": {
      "image/png": "[encoded data removed]",
      "text/plain": [
       "<Figure size 720x360 with 1 Axes>"
      ]
     },
     "metadata": {
      "needs_background": "light"
     },
     "output_type": "display_data"
    }
   ],
   "source": [
    "a['hour'].value_counts().plot(kind='bar',figsize=(10,5),color = 'red')"
   ]
  },
  {
   "cell_type": "code",
   "execution_count": 41,
   "metadata": {},
   "outputs": [
    {
     "data": {
      "image/png": "[encoded data removed]",
      "text/plain": [
       "<Figure size 432x288 with 1 Axes>"
      ]
     },
     "metadata": {
      "needs_background": "light"
     },
     "output_type": "display_data"
    }
   ],
   "source": [
    "import matplotlib.pyplot as plt\n",
    "x = a['hour']\n",
    "y = a['price']\n",
    "plt.plot(x,y)\n",
    "plt.show()"
   ]
  },
  {
   "cell_type": "code",
   "execution_count": 42,
   "metadata": {},
   "outputs": [
    {
     "data": {
      "image/png": "[encoded data removed]",
      "text/plain": [
       "<Figure size 432x288 with 1 Axes>"
      ]
     },
     "metadata": {
      "needs_background": "light"
     },
     "output_type": "display_data"
    }
   ],
   "source": [
    "x = a['rain']\n",
    "y = a['price']\n",
    "plt.plot(x,y)\n",
    "plt.show()"
   ]
  },
  {
   "cell_type": "code",
   "execution_count": 44,
   "metadata": {},
   "outputs": [
    {
     "data": {
      "text/plain": [
       "Index(['distance', 'cab_type', 'time_stamp', 'destination', 'source', 'price',\n",
       "       'surge_multiplier', 'id', 'product_id', 'name', 'datetime', 'temp',\n",
       "       'location', 'clouds', 'pressure', 'rain', 'humidity', 'wind', 'day',\n",
       "       'hour'],\n",
       "      dtype='object')"
      ]
     },
     "execution_count": 44,
     "metadata": {},
     "output_type": "execute_result"
    }
   ],
   "source": [
    "a.columns"
   ]
  },
  {
   "cell_type": "code",
   "execution_count": 46,
   "metadata": {},
   "outputs": [],
   "source": [
    "x1 = a[['distance','temp','surge_multiplier','clouds','pressure','rain','humidity','day','wind','hour']]\n",
    "y1 = a['price']"
   ]
  },
  {
   "cell_type": "code",
   "execution_count": 47,
   "metadata": {},
   "outputs": [],
   "source": [
    "from sklearn.model_selection import train_test_split\n",
    "x_train,y_train,x_test,y_test = train_test_split(x1,y1,test_size = 0.25,random_state=42)"
   ]
  },
  {
   "cell_type": "code",
   "execution_count": 48,
   "metadata": {},
   "outputs": [
    {
     "data": {
      "text/plain": [
       "LinearRegression(copy_X=True, fit_intercept=True, n_jobs=None, normalize=False)"
      ]
     },
     "execution_count": 48,
     "metadata": {},
     "output_type": "execute_result"
    }
   ],
   "source": [
    "linear = LinearRegression()\n",
    "linear.fit(x_train,x_test)"
   ]
  },
  {
   "cell_type": "code",
   "execution_count": 54,
   "metadata": {},
   "outputs": [
    {
     "data": {
      "text/plain": [
       "array([32.54722234, 14.75563929, 16.81698669, ..., 11.82903496,\n",
       "       11.8544837 , 13.22871529])"
      ]
     },
     "execution_count": 54,
     "metadata": {},
     "output_type": "execute_result"
    }
   ],
   "source": [
    "prediction = linear.predict(y_train)\n",
    "prediction"
   ]
  },
  {
   "cell_type": "code",
   "execution_count": 53,
   "metadata": {},
   "outputs": [
    {
     "data": {
      "text/html": [
       "<div>\n",
       "<style scoped>\n",
       "    .dataframe tbody tr th:only-of-type {\n",
       "        vertical-align: middle;\n",
       "    }\n",
       "\n",
       "    .dataframe tbody tr th {\n",
       "        vertical-align: top;\n",
       "    }\n",
       "\n",
       "    .dataframe thead th {\n",
       "        text-align: right;\n",
       "    }\n",
       "</style>\n",
       "<table border=\"1\" class=\"dataframe\">\n",
       "  <thead>\n",
       "    <tr style=\"text-align: right;\">\n",
       "      <th></th>\n",
       "      <th>Actual</th>\n",
       "      <th>predicted</th>\n",
       "    </tr>\n",
       "  </thead>\n",
       "  <tbody>\n",
       "    <tr>\n",
       "      <th>81607</th>\n",
       "      <td>42.5</td>\n",
       "      <td>32.547222</td>\n",
       "    </tr>\n",
       "    <tr>\n",
       "      <th>354</th>\n",
       "      <td>0.0</td>\n",
       "      <td>14.755639</td>\n",
       "    </tr>\n",
       "    <tr>\n",
       "      <th>471801</th>\n",
       "      <td>32.5</td>\n",
       "      <td>16.816987</td>\n",
       "    </tr>\n",
       "    <tr>\n",
       "      <th>407645</th>\n",
       "      <td>27.5</td>\n",
       "      <td>10.480252</td>\n",
       "    </tr>\n",
       "    <tr>\n",
       "      <th>474760</th>\n",
       "      <td>27.5</td>\n",
       "      <td>10.556598</td>\n",
       "    </tr>\n",
       "  </tbody>\n",
       "</table>\n",
       "</div>"
      ],
      "text/plain": [
       "        Actual  predicted\n",
       "81607     42.5  32.547222\n",
       "354        0.0  14.755639\n",
       "471801    32.5  16.816987\n",
       "407645    27.5  10.480252\n",
       "474760    27.5  10.556598"
      ]
     },
     "execution_count": 53,
     "metadata": {},
     "output_type": "execute_result"
    }
   ],
   "source": [
    "df = pd.DataFrame({'Actual':y_test,'predicted':prediction})\n",
    "df.head()"
   ]
  },
  {
   "cell_type": "code",
   "execution_count": 56,
   "metadata": {},
   "outputs": [
    {
     "data": {
      "image/png": "[encoded data removed]",
      "text/plain": [
       "<Figure size 1800x720 with 1 Axes>"
      ]
     },
     "metadata": {
      "needs_background": "light"
     },
     "output_type": "display_data"
    }
   ],
   "source": [
    "df1 = df.head(25)\n",
    "df1.plot(kind = 'bar',figsize=(25,10))\n",
    "plt.grid(which='major',linestyle='-',linewidth ='0.5',color = 'green')\n",
    "plt.grid(which='minor',linestyle=':',linewidth ='0.5',color = 'black')\n",
    "plt.show()"
   ]
  },
  {
   "cell_type": "code",
   "execution_count": null,
   "metadata": {},
   "outputs": [],
   "source": []
  }
 ],
 "metadata": {
  "kernelspec": {
   "display_name": "Python 3",
   "language": "python",
   "name": "python3"
  },
  "language_info": {
   "codemirror_mode": {
    "name": "ipython",
    "version": 3
   },
   "file_extension": ".py",
   "mimetype": "text/x-python",
   "name": "python",
   "nbconvert_exporter": "python",
   "pygments_lexer": "ipython3",
   "version": "3.7.6"
  }
 },
 "nbformat": 4,
 "nbformat_minor": 4
}
